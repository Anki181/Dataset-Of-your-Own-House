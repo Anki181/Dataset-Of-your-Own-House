{
 "cells": [
  {
   "cell_type": "markdown",
   "id": "19160de6",
   "metadata": {},
   "source": [
    "Ankitha 21BTRCD004 CSE{DATA SCIENCE}\n",
    "\n",
    "Q1)Create a Dataset Of your Own House, such that you are analysing dataset & its different variables using pandas methods. Also use dropna(),\n",
    "fillna(mean,median,mode), encoding techniques: replace(), category().get_dummies, Sklearn-ordinalencoder().\n",
    "\n",
    "\n",
    "1) Creating Dataset of Home:"
   ]
  },
  {
   "cell_type": "code",
   "execution_count": 3,
   "id": "0fa57c6e",
   "metadata": {},
   "outputs": [
    {
     "name": "stdout",
     "output_type": "stream",
     "text": [
      "     Area  Bedrooms  Bathrooms   Age  Electricity_bill\n",
      "0  1500.0         3        2.0  15.0             100.0\n",
      "1  1800.0         3        2.0  10.0             110.0\n",
      "2  2200.0         4        3.0   8.0               NaN\n",
      "3  1800.0         2        2.0   NaN             120.0\n",
      "4     NaN         2        1.0   6.0              90.0\n",
      "5  2000.0         3        2.0   5.0             130.0\n",
      "6  1600.0         2        1.0  12.0              80.0\n",
      "7  1900.0         4        3.0  14.0             140.0\n",
      "8  1700.0         3        NaN   7.0              95.0\n",
      "9  2100.0         3        2.0   9.0             115.0\n"
     ]
    }
   ],
   "source": [
    "import pandas as pd\n",
    "import numpy as np\n",
    "data = {\n",
    " 'Area': [1500, 1800, 2200, 1800, np.nan, 2000, 1600, 1900, 1700, 2100],\n",
    " 'Bedrooms': [3, 3, 4, 2, 2, 3, 2, 4, 3, 3],\n",
    " 'Bathrooms': [2, 2, 3, 2, 1, 2, 1, 3, np.nan, 2],\n",
    " 'Age': [15, 10, 8, np.nan, 6, 5, 12, 14, 7, 9],\n",
    " 'Electricity_bill': [100, 110, np.nan, 120, 90, 130, 80, 140, 95, 115]\n",
    "}\n",
    "df = pd.DataFrame(data)\n",
    "print(df)"
   ]
  },
  {
   "cell_type": "markdown",
   "id": "206f29b2",
   "metadata": {},
   "source": [
    "2) Dropping Null values using dropna()"
   ]
  },
  {
   "cell_type": "code",
   "execution_count": 4,
   "id": "73d64b9a",
   "metadata": {},
   "outputs": [
    {
     "name": "stdout",
     "output_type": "stream",
     "text": [
      "     Area  Bedrooms  Bathrooms   Age  Electricity_bill\n",
      "0  1500.0         3        2.0  15.0             100.0\n",
      "1  1800.0         3        2.0  10.0             110.0\n",
      "5  2000.0         3        2.0   5.0             130.0\n",
      "6  1600.0         2        1.0  12.0              80.0\n",
      "7  1900.0         4        3.0  14.0             140.0\n",
      "9  2100.0         3        2.0   9.0             115.0\n"
     ]
    }
   ],
   "source": [
    "new=df.dropna()\n",
    "print(new)\n"
   ]
  },
  {
   "cell_type": "markdown",
   "id": "c09abc8d",
   "metadata": {},
   "source": [
    "3) Filling all null values with mean mode median using the method fillna()"
   ]
  },
  {
   "cell_type": "code",
   "execution_count": 10,
   "id": "772604ff",
   "metadata": {},
   "outputs": [
    {
     "name": "stdout",
     "output_type": "stream",
     "text": [
      "     Area  Bedrooms  Bathrooms   Age  Electricity_bill\n",
      "0  1500.0         3        2.0  15.0             100.0\n",
      "1  1800.0         3        2.0  10.0             110.0\n",
      "2  2200.0         4        3.0   8.0               2.9\n",
      "3  1800.0         2        2.0   2.9             120.0\n",
      "4     2.9         2        1.0   6.0              90.0\n",
      "5  2000.0         3        2.0   5.0             130.0\n",
      "6  1600.0         2        1.0  12.0              80.0\n",
      "7  1900.0         4        3.0  14.0             140.0\n",
      "8  1700.0         3        2.9   7.0              95.0\n",
      "9  2100.0         3        2.0   9.0             115.0\n"
     ]
    }
   ],
   "source": [
    "HE=df.fillna(df['Bedrooms'].mean())\n",
    "print(HE)\n"
   ]
  },
  {
   "cell_type": "code",
   "execution_count": 11,
   "id": "c4122ced",
   "metadata": {},
   "outputs": [
    {
     "name": "stdout",
     "output_type": "stream",
     "text": [
      "     Area  Bedrooms  Bathrooms   Age  Electricity_bill\n",
      "0  1500.0         3        2.0  15.0             100.0\n",
      "1  1800.0         3        2.0  10.0             110.0\n",
      "2  2200.0         4        3.0   8.0               NaN\n",
      "3  1800.0         2        2.0   NaN             120.0\n",
      "4     NaN         2        1.0   6.0              90.0\n",
      "5  2000.0         3        2.0   5.0             130.0\n",
      "6  1600.0         2        1.0  12.0              80.0\n",
      "7  1900.0         4        3.0  14.0             140.0\n",
      "8  1700.0         3        NaN   7.0              95.0\n",
      "9  2100.0         3        2.0   9.0             115.0\n"
     ]
    }
   ],
   "source": [
    "ank=df.fillna(df['Bathrooms'].mode())\n",
    "print(ank)\n"
   ]
  },
  {
   "cell_type": "code",
   "execution_count": 12,
   "id": "1ea18c41",
   "metadata": {},
   "outputs": [
    {
     "name": "stdout",
     "output_type": "stream",
     "text": [
      "     Area  Bedrooms  Bathrooms   Age  Electricity_bill\n",
      "0  1500.0         3        2.0  15.0             100.0\n",
      "1  1800.0         3        2.0  10.0             110.0\n",
      "2  2200.0         4        3.0   8.0               3.0\n",
      "3  1800.0         2        2.0   3.0             120.0\n",
      "4     3.0         2        1.0   6.0              90.0\n",
      "5  2000.0         3        2.0   5.0             130.0\n",
      "6  1600.0         2        1.0  12.0              80.0\n",
      "7  1900.0         4        3.0  14.0             140.0\n",
      "8  1700.0         3        3.0   7.0              95.0\n",
      "9  2100.0         3        2.0   9.0             115.0\n"
     ]
    }
   ],
   "source": [
    "ha=df.fillna(df['Bedrooms'].median())\n",
    "print(ha)\n"
   ]
  },
  {
   "cell_type": "markdown",
   "id": "2bbe27b0",
   "metadata": {},
   "source": [
    "4) Replacing the values using the method replace()"
   ]
  },
  {
   "cell_type": "code",
   "execution_count": 13,
   "id": "4f5bdbb3",
   "metadata": {},
   "outputs": [
    {
     "name": "stdout",
     "output_type": "stream",
     "text": [
      "     Area  Bedrooms  Bathrooms   Age  Electricity_bill\n",
      "0  1500.0         5        2.0  15.0             100.0\n",
      "1  1800.0         5        2.0  10.0             110.0\n",
      "2  2200.0         4        5.0   8.0               NaN\n",
      "3  1800.0         2        2.0   NaN             120.0\n",
      "4     NaN         2        1.0   6.0              90.0\n",
      "5  2000.0         5        2.0   5.0             130.0\n",
      "6  1600.0         2        1.0  12.0              80.0\n",
      "7  1900.0         4        5.0  14.0             140.0\n",
      "8  1700.0         5        NaN   7.0              95.0\n",
      "9  2100.0         5        2.0   9.0             115.0\n"
     ]
    }
   ],
   "source": [
    "jy=df.replace(3,5)\n",
    "print(jy)\n"
   ]
  },
  {
   "cell_type": "code",
   "execution_count": 9,
   "id": "a3f957a7",
   "metadata": {},
   "outputs": [
    {
     "name": "stdout",
     "output_type": "stream",
     "text": [
      "[1, 2, 3, 1, 2, 3]\n",
      "Categories (3, int64): [1, 2, 3]\n",
      "['e', 'm', 'f', 'i', 'f', 'e', 'h', 'm']\n",
      "Categories (5, object): ['e', 'f', 'h', 'i', 'm']\n"
     ]
    }
   ],
   "source": [
    "c1 = pd.Categorical([1, 2, 3, 1, 2, 3])\n",
    "print (c1)\n",
    "c2 = pd.Categorical(['e', 'm', 'f', 'i',\n",
    " 'f', 'e', 'h', 'm' ])\n",
    "print (c2)\n"
   ]
  },
  {
   "cell_type": "code",
   "execution_count": null,
   "id": "542a39c1",
   "metadata": {},
   "outputs": [],
   "source": []
  }
 ],
 "metadata": {
  "kernelspec": {
   "display_name": "Python 3 (ipykernel)",
   "language": "python",
   "name": "python3"
  },
  "language_info": {
   "codemirror_mode": {
    "name": "ipython",
    "version": 3
   },
   "file_extension": ".py",
   "mimetype": "text/x-python",
   "name": "python",
   "nbconvert_exporter": "python",
   "pygments_lexer": "ipython3",
   "version": "3.9.13"
  }
 },
 "nbformat": 4,
 "nbformat_minor": 5
}
